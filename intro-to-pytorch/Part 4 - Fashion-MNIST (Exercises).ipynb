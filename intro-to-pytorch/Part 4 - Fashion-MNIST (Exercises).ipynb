{
 "cells": [
  {
   "cell_type": "markdown",
   "metadata": {},
   "source": [
    "# Classifying Fashion-MNIST\n",
    "\n",
    "Now it's your turn to build and train a neural network. You'll be using the [Fashion-MNIST dataset](https://github.com/zalandoresearch/fashion-mnist), a drop-in replacement for the MNIST dataset. MNIST is actually quite trivial with neural networks where you can easily achieve better than 97% accuracy. Fashion-MNIST is a set of 28x28 greyscale images of clothes. It's more complex than MNIST, so it's a better representation of the actual performance of your network, and a better representation of datasets you'll use in the real world.\n",
    "\n",
    "<img src='assets/fashion-mnist-sprite.png' width=500px>\n",
    "\n",
    "In this notebook, you'll build your own neural network. For the most part, you could just copy and paste the code from Part 3, but you wouldn't be learning. It's important for you to write the code yourself and get it to work. Feel free to consult the previous notebooks though as you work through this.\n",
    "\n",
    "First off, let's load the dataset through torchvision."
   ]
  },
  {
   "cell_type": "code",
   "execution_count": 1,
   "metadata": {},
   "outputs": [
    {
     "name": "stderr",
     "output_type": "stream",
     "text": [
      "\r",
      "0it [00:00, ?it/s]"
     ]
    },
    {
     "name": "stdout",
     "output_type": "stream",
     "text": [
      "Downloading http://fashion-mnist.s3-website.eu-central-1.amazonaws.com/train-images-idx3-ubyte.gz to /Users/jenniferhobbs/.pytorch/F_MNIST_data/FashionMNIST/raw/train-images-idx3-ubyte.gz\n"
     ]
    },
    {
     "name": "stderr",
     "output_type": "stream",
     "text": [
      "100%|█████████▉| 26411008/26421880 [00:15<00:00, 2894042.47it/s]"
     ]
    },
    {
     "name": "stdout",
     "output_type": "stream",
     "text": [
      "Extracting /Users/jenniferhobbs/.pytorch/F_MNIST_data/FashionMNIST/raw/train-images-idx3-ubyte.gz to /Users/jenniferhobbs/.pytorch/F_MNIST_data/FashionMNIST/raw\n"
     ]
    },
    {
     "name": "stderr",
     "output_type": "stream",
     "text": [
      "\n",
      "0it [00:00, ?it/s]\u001b[A"
     ]
    },
    {
     "name": "stdout",
     "output_type": "stream",
     "text": [
      "Downloading http://fashion-mnist.s3-website.eu-central-1.amazonaws.com/train-labels-idx1-ubyte.gz to /Users/jenniferhobbs/.pytorch/F_MNIST_data/FashionMNIST/raw/train-labels-idx1-ubyte.gz\n"
     ]
    },
    {
     "name": "stderr",
     "output_type": "stream",
     "text": [
      "\n",
      "  0%|          | 0/29515 [00:00<?, ?it/s]\u001b[A\n",
      " 56%|█████▌    | 16384/29515 [00:00<00:00, 125583.38it/s]\u001b[A\n",
      "32768it [00:00, 53047.39it/s]                            \u001b[A\n",
      "\n",
      "0it [00:00, ?it/s]\u001b[A"
     ]
    },
    {
     "name": "stdout",
     "output_type": "stream",
     "text": [
      "Extracting /Users/jenniferhobbs/.pytorch/F_MNIST_data/FashionMNIST/raw/train-labels-idx1-ubyte.gz to /Users/jenniferhobbs/.pytorch/F_MNIST_data/FashionMNIST/raw\n",
      "Downloading http://fashion-mnist.s3-website.eu-central-1.amazonaws.com/t10k-images-idx3-ubyte.gz to /Users/jenniferhobbs/.pytorch/F_MNIST_data/FashionMNIST/raw/t10k-images-idx3-ubyte.gz\n"
     ]
    },
    {
     "name": "stderr",
     "output_type": "stream",
     "text": [
      "\n",
      "  0%|          | 0/4422102 [00:00<?, ?it/s]\u001b[A\n",
      "  0%|          | 16384/4422102 [00:00<00:33, 130922.17it/s]\u001b[A\n",
      "  1%|          | 24576/4422102 [00:00<00:44, 99049.76it/s] \u001b[A\n",
      "  1%|          | 32768/4422102 [00:00<00:52, 84309.11it/s]\u001b[A\n",
      "  1%|          | 40960/4422102 [00:00<00:58, 74902.18it/s]\u001b[A\n",
      "  1%|          | 49152/4422102 [00:00<01:01, 71303.47it/s]\u001b[A\n",
      "  1%|▏         | 57344/4422102 [00:01<01:02, 69411.49it/s]\u001b[A\n",
      "  1%|▏         | 65536/4422102 [00:01<01:03, 68370.64it/s]\u001b[A\n",
      "  2%|▏         | 73728/4422102 [00:01<01:05, 66049.03it/s]\u001b[A\n",
      "  2%|▏         | 81920/4422102 [00:01<01:07, 64232.84it/s]\u001b[A\n",
      "  2%|▏         | 90112/4422102 [00:01<01:07, 64287.46it/s]\u001b[A\n",
      "  2%|▏         | 106496/4422102 [00:01<00:57, 75567.69it/s]\u001b[A\n",
      "  3%|▎         | 114688/4422102 [00:01<01:00, 71673.54it/s]\u001b[A\n",
      "  3%|▎         | 131072/4422102 [00:01<00:51, 82677.64it/s]\u001b[A\n",
      "  3%|▎         | 147456/4422102 [00:02<00:46, 92540.03it/s]\u001b[A\n",
      "  4%|▎         | 163840/4422102 [00:02<00:42, 101331.08it/s]\u001b[A\n",
      "  4%|▍         | 180224/4422102 [00:02<00:39, 107968.89it/s]\u001b[A\n",
      "  4%|▍         | 196608/4422102 [00:02<00:37, 111429.98it/s]\u001b[A\n",
      "  5%|▍         | 212992/4422102 [00:02<00:35, 117745.72it/s]\u001b[A\n",
      "  5%|▌         | 229376/4422102 [00:02<00:35, 119565.00it/s]\u001b[A\n",
      "  6%|▌         | 245760/4422102 [00:02<00:33, 124323.33it/s]\u001b[A\n",
      "  6%|▌         | 262144/4422102 [00:02<00:33, 125648.36it/s]\u001b[A\n",
      "  6%|▋         | 278528/4422102 [00:03<00:32, 126857.11it/s]\u001b[A\n",
      "  7%|▋         | 294912/4422102 [00:03<00:32, 127587.35it/s]\u001b[A\n",
      "  7%|▋         | 311296/4422102 [00:03<00:30, 134787.89it/s]\u001b[A\n",
      "  8%|▊         | 335872/4422102 [00:03<00:27, 147864.99it/s]\u001b[A\n",
      "  8%|▊         | 352256/4422102 [00:03<00:28, 141942.26it/s]\u001b[A\n",
      "  9%|▊         | 376832/4422102 [00:03<00:26, 151826.19it/s]\u001b[A\n",
      "  9%|▉         | 401408/4422102 [00:03<00:24, 163119.29it/s]\u001b[A\n",
      " 10%|▉         | 425984/4422102 [00:03<00:23, 171770.91it/s]\u001b[A\n",
      " 10%|█         | 450560/4422102 [00:04<00:22, 179499.17it/s]\u001b[A\n",
      " 11%|█         | 475136/4422102 [00:04<00:21, 184252.28it/s]\u001b[A\n",
      " 11%|█▏        | 507904/4422102 [00:04<00:20, 187147.84it/s]\u001b[A\n",
      " 12%|█▏        | 540672/4422102 [00:04<00:18, 204423.34it/s]\u001b[A\n",
      " 13%|█▎        | 565248/4422102 [00:04<00:19, 201336.10it/s]\u001b[A\n",
      " 13%|█▎        | 589824/4422102 [00:04<00:18, 210360.22it/s]\u001b[A\n",
      " 14%|█▍        | 614400/4422102 [00:04<00:18, 210340.37it/s]\u001b[A\n",
      " 15%|█▍        | 647168/4422102 [00:05<00:17, 220237.76it/s]\u001b[A\n",
      " 15%|█▌        | 679936/4422102 [00:05<00:16, 228262.10it/s]\u001b[A\n",
      " 16%|█▌        | 712704/4422102 [00:05<00:15, 237822.01it/s]\u001b[A\n",
      " 17%|█▋        | 745472/4422102 [00:05<00:15, 242143.43it/s]\u001b[A\n",
      " 17%|█▋        | 770048/4422102 [00:05<00:15, 229721.77it/s]\u001b[A\n",
      " 18%|█▊        | 794624/4422102 [00:05<00:16, 217546.87it/s]\u001b[A\n",
      " 19%|█▊        | 819200/4422102 [00:05<00:17, 210154.85it/s]\u001b[A\n",
      " 19%|█▉        | 851968/4422102 [00:05<00:16, 221817.45it/s]\u001b[A\n",
      " 20%|██        | 884736/4422102 [00:06<00:15, 227600.61it/s]\u001b[A\n",
      " 21%|██        | 925696/4422102 [00:06<00:13, 251454.76it/s]\u001b[A\n",
      " 22%|██▏       | 974848/4422102 [00:06<00:12, 277639.93it/s]\u001b[A\n",
      " 23%|██▎       | 1032192/4422102 [00:06<00:10, 313097.68it/s]\u001b[A\n",
      " 25%|██▍       | 1089536/4422102 [00:06<00:09, 343468.96it/s]\u001b[A\n",
      " 26%|██▌       | 1155072/4422102 [00:06<00:08, 378901.75it/s]\u001b[A\n",
      " 28%|██▊       | 1220608/4422102 [00:06<00:07, 413157.26it/s]\u001b[A\n",
      " 29%|██▉       | 1286144/4422102 [00:06<00:07, 442012.64it/s]\u001b[A\n",
      " 30%|███       | 1343488/4422102 [00:07<00:06, 444083.75it/s]\u001b[A\n",
      " 32%|███▏      | 1417216/4422102 [00:07<00:06, 478981.00it/s]\u001b[A\n",
      " 34%|███▎      | 1490944/4422102 [00:07<00:05, 505822.22it/s]\u001b[A\n",
      " 36%|███▌      | 1572864/4422102 [00:07<00:05, 541624.51it/s]\u001b[A\n",
      " 37%|███▋      | 1646592/4422102 [00:07<00:05, 549407.32it/s]\u001b[A\n",
      " 39%|███▉      | 1720320/4422102 [00:07<00:04, 560564.84it/s]\u001b[A\n",
      " 41%|████      | 1802240/4422102 [00:07<00:04, 584895.04it/s]\u001b[A\n",
      " 42%|████▏     | 1875968/4422102 [00:07<00:04, 573972.61it/s]\u001b[A\n",
      " 44%|████▍     | 1949696/4422102 [00:08<00:04, 576347.22it/s]\u001b[A\n",
      " 46%|████▌     | 2023424/4422102 [00:08<00:04, 575519.72it/s]\u001b[A\n",
      " 48%|████▊     | 2105344/4422102 [00:08<00:03, 593547.43it/s]\u001b[A\n",
      " 49%|████▉     | 2179072/4422102 [00:08<00:03, 590085.42it/s]\u001b[A\n",
      " 51%|█████     | 2244608/4422102 [00:08<00:03, 566735.18it/s]\u001b[A\n",
      " 52%|█████▏    | 2310144/4422102 [00:08<00:03, 552003.44it/s]\u001b[A\n",
      " 54%|█████▍    | 2383872/4422102 [00:08<00:03, 556075.56it/s]\u001b[A\n",
      " 55%|█████▌    | 2449408/4422102 [00:08<00:03, 550659.80it/s]\u001b[A\n",
      " 57%|█████▋    | 2523136/4422102 [00:09<00:03, 560944.99it/s]\u001b[A\n",
      " 59%|█████▊    | 2588672/4422102 [00:09<00:03, 548576.32it/s]\u001b[A\n",
      " 60%|█████▉    | 2646016/4422102 [00:09<00:03, 551381.27it/s]\u001b[A\n",
      " 61%|██████    | 2703360/4422102 [00:09<00:03, 533826.09it/s]\u001b[A\n",
      " 62%|██████▏   | 2760704/4422102 [00:09<00:03, 512354.30it/s]\u001b[A\n",
      " 64%|██████▍   | 2826240/4422102 [00:09<00:03, 513589.40it/s]\u001b[A\n",
      " 66%|██████▌   | 2899968/4422102 [00:09<00:03, 458193.42it/s]\u001b[A\n",
      " 67%|██████▋   | 2965504/4422102 [00:10<00:03, 482512.97it/s]\u001b[A\n",
      " 69%|██████▊   | 3039232/4422102 [00:10<00:02, 503346.08it/s]\u001b[A\n",
      " 70%|███████   | 3112960/4422102 [00:10<00:02, 526003.01it/s]\u001b[A\n",
      " 72%|███████▏  | 3186688/4422102 [00:10<00:02, 464801.13it/s]\u001b[A\n",
      " 74%|███████▍  | 3268608/4422102 [00:10<00:02, 500872.66it/s]\u001b[A\n",
      " 76%|███████▌  | 3342336/4422102 [00:10<00:02, 517100.51it/s]\u001b[A\n",
      " 77%|███████▋  | 3416064/4422102 [00:10<00:01, 526315.97it/s]\u001b[A\n",
      " 79%|███████▉  | 3489792/4422102 [00:10<00:01, 536170.24it/s]\u001b[A\n",
      " 81%|████████  | 3571712/4422102 [00:11<00:01, 561228.72it/s]\u001b[A\n",
      " 82%|████████▏ | 3645440/4422102 [00:11<00:01, 534613.77it/s]\u001b[A\n",
      " 84%|████████▍ | 3719168/4422102 [00:11<00:01, 536866.61it/s]\u001b[A\n",
      " 86%|████████▌ | 3801088/4422102 [00:11<00:01, 557662.23it/s]\u001b[A\n",
      " 88%|████████▊ | 3874816/4422102 [00:11<00:00, 562641.45it/s]\u001b[A\n",
      " 89%|████████▉ | 3948544/4422102 [00:11<00:00, 563657.24it/s]\u001b[A\n",
      " 91%|█████████ | 4030464/4422102 [00:11<00:00, 580872.47it/s]\u001b[A\n",
      " 93%|█████████▎| 4104192/4422102 [00:12<00:00, 575295.27it/s]\u001b[A\n",
      " 95%|█████████▍| 4186112/4422102 [00:12<00:00, 594167.73it/s]\u001b[A\n",
      " 97%|█████████▋| 4268032/4422102 [00:12<00:00, 608392.88it/s]\u001b[A\n",
      " 98%|█████████▊| 4349952/4422102 [00:12<00:00, 621527.15it/s]\u001b[A\n",
      "100%|█████████▉| 4415488/4422102 [00:12<00:00, 610360.08it/s]\u001b[A\n",
      "\n",
      "0it [00:00, ?it/s]\u001b[A\u001b[A"
     ]
    },
    {
     "name": "stdout",
     "output_type": "stream",
     "text": [
      "Extracting /Users/jenniferhobbs/.pytorch/F_MNIST_data/FashionMNIST/raw/t10k-images-idx3-ubyte.gz to /Users/jenniferhobbs/.pytorch/F_MNIST_data/FashionMNIST/raw\n",
      "Downloading http://fashion-mnist.s3-website.eu-central-1.amazonaws.com/t10k-labels-idx1-ubyte.gz to /Users/jenniferhobbs/.pytorch/F_MNIST_data/FashionMNIST/raw/t10k-labels-idx1-ubyte.gz\n"
     ]
    },
    {
     "name": "stderr",
     "output_type": "stream",
     "text": [
      "\n",
      "\n",
      "8192it [00:00, 27774.78it/s]            \u001b[A\u001b[A"
     ]
    },
    {
     "name": "stdout",
     "output_type": "stream",
     "text": [
      "Extracting /Users/jenniferhobbs/.pytorch/F_MNIST_data/FashionMNIST/raw/t10k-labels-idx1-ubyte.gz to /Users/jenniferhobbs/.pytorch/F_MNIST_data/FashionMNIST/raw\n",
      "Processing...\n",
      "Done!\n"
     ]
    },
    {
     "name": "stderr",
     "output_type": "stream",
     "text": [
      "\n",
      "26427392it [00:30, 2894042.47it/s]                              \n",
      "4423680it [00:23, 610360.08it/s]                             \u001b[A"
     ]
    }
   ],
   "source": [
    "import torch\n",
    "from torchvision import datasets, transforms\n",
    "import helper\n",
    "\n",
    "# Define a transform to normalize the data\n",
    "transform = transforms.Compose([transforms.ToTensor(),\n",
    "                                transforms.Normalize((0.5,), (0.5,))])\n",
    "# Download and load the training data\n",
    "trainset = datasets.FashionMNIST('~/.pytorch/F_MNIST_data/', download=True, train=True, transform=transform)\n",
    "trainloader = torch.utils.data.DataLoader(trainset, batch_size=64, shuffle=True)\n",
    "\n",
    "# Download and load the test data\n",
    "testset = datasets.FashionMNIST('~/.pytorch/F_MNIST_data/', download=True, train=False, transform=transform)\n",
    "testloader = torch.utils.data.DataLoader(testset, batch_size=64, shuffle=True)"
   ]
  },
  {
   "cell_type": "markdown",
   "metadata": {},
   "source": [
    "Here we can see one of the images."
   ]
  },
  {
   "cell_type": "code",
   "execution_count": 2,
   "metadata": {},
   "outputs": [
    {
     "data": {
      "image/png": "[encoded data removed]",
      "text/plain": [
       "<Figure size 432x288 with 1 Axes>"
      ]
     },
     "metadata": {
      "needs_background": "light"
     },
     "output_type": "display_data"
    }
   ],
   "source": [
    "image, label = next(iter(trainloader))\n",
    "helper.imshow(image[0,:]);"
   ]
  },
  {
   "cell_type": "markdown",
   "metadata": {},
   "source": [
    "## Building the network\n",
    "\n",
    "Here you should define your network. As with MNIST, each image is 28x28 which is a total of 784 pixels, and there are 10 classes. You should include at least one hidden layer. We suggest you use ReLU activations for the layers and to return the logits or log-softmax from the forward pass. It's up to you how many layers you add and the size of those layers."
   ]
  },
  {
   "cell_type": "code",
   "execution_count": 3,
   "metadata": {},
   "outputs": [],
   "source": [
    "# TODO: Define your network architecture here\n"
   ]
  },
  {
   "cell_type": "markdown",
   "metadata": {},
   "source": [
    "# Train the network\n",
    "\n",
    "Now you should create your network and train it. First you'll want to define [the criterion](http://pytorch.org/docs/master/nn.html#loss-functions) ( something like `nn.CrossEntropyLoss`) and [the optimizer](http://pytorch.org/docs/master/optim.html) (typically `optim.SGD` or `optim.Adam`).\n",
    "\n",
    "Then write the training code. Remember the training pass is a fairly straightforward process:\n",
    "\n",
    "* Make a forward pass through the network to get the logits \n",
    "* Use the logits to calculate the loss\n",
    "* Perform a backward pass through the network with `loss.backward()` to calculate the gradients\n",
    "* Take a step with the optimizer to update the weights\n",
    "\n",
    "By adjusting the hyperparameters (hidden units, learning rate, etc), you should be able to get the training loss below 0.4."
   ]
  },
  {
   "cell_type": "code",
   "execution_count": 7,
   "metadata": {},
   "outputs": [],
   "source": [
    "# TODO: Create the network, define the criterion and optimizer\n",
    "from torch import nn, optim\n",
    "import torch.nn.functional as F\n",
    "\n",
    "model = nn.Sequential(nn.Linear(784,128),\n",
    "                      nn.ReLU(),\n",
    "                      nn.Linear(128,64),\n",
    "                      nn.ReLU(),\n",
    "                      nn.Linear(64,10),\n",
    "                      nn.LogSoftmax(dim=1))\n",
    "\n",
    "criterion = nn.NLLLoss()\n",
    "optimizer = optim.SGD(model.parameters(), lr=0.003)\n"
   ]
  },
  {
   "cell_type": "code",
   "execution_count": 8,
   "metadata": {},
   "outputs": [
    {
     "name": "stdout",
     "output_type": "stream",
     "text": [
      "Training Loss: 1.6681386719126183\n",
      "Training Loss: 0.8549738467248009\n",
      "Training Loss: 0.6860928209478667\n",
      "Training Loss: 0.6152300112791407\n",
      "Training Loss: 0.5708755423455859\n",
      "Training Loss: 0.5389668398828649\n",
      "Training Loss: 0.5151813418658049\n",
      "Training Loss: 0.496692904324801\n",
      "Training Loss: 0.4814262777757543\n",
      "Training Loss: 0.46944751520591504\n"
     ]
    }
   ],
   "source": [
    "# TODO: Train the network here\n",
    "epochs = 10\n",
    "for e in range(epochs):\n",
    "    running_loss = 0\n",
    "    for images, labels in trainloader:\n",
    "        images = images.view(images.shape[0], -1)\n",
    "        \n",
    "        optimizer.zero_grad()\n",
    "        \n",
    "        output = model.forward(images)\n",
    "        loss = criterion(output, labels)\n",
    "        loss.backward()\n",
    "        optimizer.step()\n",
    "        \n",
    "        running_loss += loss.item()\n",
    "    else:\n",
    "        print(f\"Training Loss: {running_loss/len(trainloader)}\")"
   ]
  },
  {
   "cell_type": "code",
   "execution_count": 9,
   "metadata": {},
   "outputs": [],
   "source": [
    "class FashionMNIST(nn.Module):\n",
    "    def __init__(self):\n",
    "        super().__init__()\n",
    "        self.fc1 = nn.Linear(784, 256)\n",
    "        self.fc2 = nn.Linear(256, 128)\n",
    "        self.fc3 = nn.Linear(128, 64)\n",
    "        self.fc4 = nn.Linear(64,10)\n",
    "    \n",
    "    def forward(self, x):\n",
    "        x = x.view(x.shape[0], -1)\n",
    "        x = F.relu(self.fc1(x))\n",
    "        x = F.relu(self.fc2(x))\n",
    "        x = F.relu(self.fc3(x))\n",
    "        x = F.log_softmax(self.fc4(x), dim=1)\n",
    "        \n",
    "        return x\n",
    "        "
   ]
  },
  {
   "cell_type": "code",
   "execution_count": 11,
   "metadata": {},
   "outputs": [],
   "source": [
    "model = FashionMNIST()\n",
    "criterion = nn.NLLLoss()\n",
    "optimizer = optim.SGD(model.parameters(), lr=0.003)"
   ]
  },
  {
   "cell_type": "code",
   "execution_count": 12,
   "metadata": {},
   "outputs": [
    {
     "name": "stdout",
     "output_type": "stream",
     "text": [
      "Training Loss: 2.1382127679995637\n",
      "Training Loss: 1.1977861413696427\n",
      "Training Loss: 0.7662537218982985\n",
      "Training Loss: 0.6559159295327628\n",
      "Training Loss: 0.6012114329950642\n",
      "Training Loss: 0.5646280769282567\n",
      "Training Loss: 0.5359466337700134\n",
      "Training Loss: 0.513447312467388\n",
      "Training Loss: 0.4947066598736655\n",
      "Training Loss: 0.47954266267354045\n"
     ]
    }
   ],
   "source": [
    "epochs = 10\n",
    "for e in range(epochs):\n",
    "    running_loss = 0\n",
    "    for images, labels in trainloader:\n",
    "        log_prob = model(images)\n",
    "        loss = criterion(log_prob, labels)\n",
    "    \n",
    "        optimizer.zero_grad()\n",
    "        loss.backward()\n",
    "        optimizer.step()\n",
    "        \n",
    "        running_loss += loss.item()\n",
    "    else:\n",
    "        print(f\"Training Loss: {running_loss/len(trainloader)}\")"
   ]
  },
  {
   "cell_type": "code",
   "execution_count": 19,
   "metadata": {},
   "outputs": [
    {
     "data": {
      "image/png": "[encoded data removed]",
      "text/plain": [
       "<Figure size 432x648 with 2 Axes>"
      ]
     },
     "metadata": {
      "image/png": {
       "height": 216,
       "width": 424
      },
      "needs_background": "light"
     },
     "output_type": "display_data"
    }
   ],
   "source": [
    "%matplotlib inline\n",
    "%config InlineBackend.figure_format = 'retina'\n",
    "\n",
    "import helper\n",
    "\n",
    "# Test out your network!\n",
    "\n",
    "dataiter = iter(testloader)\n",
    "images, labels = dataiter.next()\n",
    "img = images[0]\n",
    "# Convert 2D image to 1D vector\n",
    "img = img.resize_(1, 784)\n",
    "\n",
    "# TODO: Calculate the class probabilities (softmax) for img\n",
    "ps = torch.exp(model(img))\n",
    "\n",
    "# Plot the image and probabilities\n",
    "helper.view_classify(img.resize_(1, 28, 28), ps, version='Fashion')"
   ]
  },
  {
   "cell_type": "code",
   "execution_count": null,
   "metadata": {},
   "outputs": [],
   "source": []
  }
 ],
 "metadata": {
  "kernelspec": {
   "display_name": "udacity_pytorch",
   "language": "python",
   "name": "udacity_pytorch"
  },
  "language_info": {
   "codemirror_mode": {
    "name": "ipython",
    "version": 3
   },
   "file_extension": ".py",
   "mimetype": "text/x-python",
   "name": "python",
   "nbconvert_exporter": "python",
   "pygments_lexer": "ipython3",
   "version": "3.6.5"
  }
 },
 "nbformat": 4,
 "nbformat_minor": 2
}
